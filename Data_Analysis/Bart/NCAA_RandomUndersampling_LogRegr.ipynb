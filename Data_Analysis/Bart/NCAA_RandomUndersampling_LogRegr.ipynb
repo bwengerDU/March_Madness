{
 "cells": [
  {
   "cell_type": "code",
   "execution_count": 1,
   "id": "16ed3514",
   "metadata": {},
   "outputs": [],
   "source": [
    "import pandas as pd\n",
    "import sklearn as skl\n",
    "from sklearn.model_selection import train_test_split\n",
    "from sklearn.preprocessing import StandardScaler, OneHotEncoder\n",
    "from sklearn.metrics import accuracy_score, confusion_matrix, classification_report\n",
    "from pathlib import Path  "
   ]
  },
  {
   "cell_type": "code",
   "execution_count": 2,
   "id": "c054d81f",
   "metadata": {},
   "outputs": [
    {
     "data": {
      "text/html": [
       "<div>\n",
       "<style scoped>\n",
       "    .dataframe tbody tr th:only-of-type {\n",
       "        vertical-align: middle;\n",
       "    }\n",
       "\n",
       "    .dataframe tbody tr th {\n",
       "        vertical-align: top;\n",
       "    }\n",
       "\n",
       "    .dataframe thead th {\n",
       "        text-align: right;\n",
       "    }\n",
       "</style>\n",
       "<table border=\"1\" class=\"dataframe\">\n",
       "  <thead>\n",
       "    <tr style=\"text-align: right;\">\n",
       "      <th></th>\n",
       "      <th>Team</th>\n",
       "      <th>Assists Per. Game Rank</th>\n",
       "      <th>Assist Turnover Ratio Rank</th>\n",
       "      <th>BlocksPerGame Rank</th>\n",
       "      <th>Field Goal % Rank</th>\n",
       "      <th>Field Goal % Defense Rank</th>\n",
       "      <th>Fouls Per Game Rank</th>\n",
       "      <th>Free Throw % Rank</th>\n",
       "      <th>Rebound Margin Rank</th>\n",
       "      <th>Scoring Defense Rank</th>\n",
       "      <th>...</th>\n",
       "      <th>Conference_Pac-12</th>\n",
       "      <th>Conference_Patriot</th>\n",
       "      <th>Conference_SEC</th>\n",
       "      <th>Conference_SWAC</th>\n",
       "      <th>Conference_SoCon</th>\n",
       "      <th>Conference_Southland</th>\n",
       "      <th>Conference_Summit League</th>\n",
       "      <th>Conference_Sun Belt</th>\n",
       "      <th>Conference_WAC</th>\n",
       "      <th>Conference_WCC</th>\n",
       "    </tr>\n",
       "  </thead>\n",
       "  <tbody>\n",
       "    <tr>\n",
       "      <th>0</th>\n",
       "      <td>A&amp;M-Corpus Christi</td>\n",
       "      <td>44</td>\n",
       "      <td>141</td>\n",
       "      <td>343</td>\n",
       "      <td>156</td>\n",
       "      <td>90</td>\n",
       "      <td>349</td>\n",
       "      <td>100</td>\n",
       "      <td>51</td>\n",
       "      <td>200</td>\n",
       "      <td>...</td>\n",
       "      <td>0.0</td>\n",
       "      <td>0.0</td>\n",
       "      <td>0.0</td>\n",
       "      <td>0.0</td>\n",
       "      <td>0.0</td>\n",
       "      <td>1.0</td>\n",
       "      <td>0.0</td>\n",
       "      <td>0.0</td>\n",
       "      <td>0.0</td>\n",
       "      <td>0.0</td>\n",
       "    </tr>\n",
       "    <tr>\n",
       "      <th>1</th>\n",
       "      <td>Akron</td>\n",
       "      <td>278</td>\n",
       "      <td>177</td>\n",
       "      <td>162</td>\n",
       "      <td>70</td>\n",
       "      <td>119</td>\n",
       "      <td>192</td>\n",
       "      <td>272</td>\n",
       "      <td>64</td>\n",
       "      <td>22</td>\n",
       "      <td>...</td>\n",
       "      <td>0.0</td>\n",
       "      <td>0.0</td>\n",
       "      <td>0.0</td>\n",
       "      <td>0.0</td>\n",
       "      <td>0.0</td>\n",
       "      <td>0.0</td>\n",
       "      <td>0.0</td>\n",
       "      <td>0.0</td>\n",
       "      <td>0.0</td>\n",
       "      <td>0.0</td>\n",
       "    </tr>\n",
       "    <tr>\n",
       "      <th>2</th>\n",
       "      <td>Alabama</td>\n",
       "      <td>66</td>\n",
       "      <td>185</td>\n",
       "      <td>36</td>\n",
       "      <td>184</td>\n",
       "      <td>200</td>\n",
       "      <td>304</td>\n",
       "      <td>132</td>\n",
       "      <td>76</td>\n",
       "      <td>320</td>\n",
       "      <td>...</td>\n",
       "      <td>0.0</td>\n",
       "      <td>0.0</td>\n",
       "      <td>1.0</td>\n",
       "      <td>0.0</td>\n",
       "      <td>0.0</td>\n",
       "      <td>0.0</td>\n",
       "      <td>0.0</td>\n",
       "      <td>0.0</td>\n",
       "      <td>0.0</td>\n",
       "      <td>0.0</td>\n",
       "    </tr>\n",
       "    <tr>\n",
       "      <th>3</th>\n",
       "      <td>Arizona</td>\n",
       "      <td>1</td>\n",
       "      <td>17</td>\n",
       "      <td>8</td>\n",
       "      <td>4</td>\n",
       "      <td>10</td>\n",
       "      <td>319</td>\n",
       "      <td>95</td>\n",
       "      <td>9</td>\n",
       "      <td>137</td>\n",
       "      <td>...</td>\n",
       "      <td>1.0</td>\n",
       "      <td>0.0</td>\n",
       "      <td>0.0</td>\n",
       "      <td>0.0</td>\n",
       "      <td>0.0</td>\n",
       "      <td>0.0</td>\n",
       "      <td>0.0</td>\n",
       "      <td>0.0</td>\n",
       "      <td>0.0</td>\n",
       "      <td>0.0</td>\n",
       "    </tr>\n",
       "    <tr>\n",
       "      <th>4</th>\n",
       "      <td>Arkansas</td>\n",
       "      <td>116</td>\n",
       "      <td>110</td>\n",
       "      <td>71</td>\n",
       "      <td>218</td>\n",
       "      <td>58</td>\n",
       "      <td>323</td>\n",
       "      <td>32</td>\n",
       "      <td>89</td>\n",
       "      <td>145</td>\n",
       "      <td>...</td>\n",
       "      <td>0.0</td>\n",
       "      <td>0.0</td>\n",
       "      <td>1.0</td>\n",
       "      <td>0.0</td>\n",
       "      <td>0.0</td>\n",
       "      <td>0.0</td>\n",
       "      <td>0.0</td>\n",
       "      <td>0.0</td>\n",
       "      <td>0.0</td>\n",
       "      <td>0.0</td>\n",
       "    </tr>\n",
       "  </tbody>\n",
       "</table>\n",
       "<p>5 rows × 53 columns</p>\n",
       "</div>"
      ],
      "text/plain": [
       "                 Team  Assists Per. Game Rank  Assist Turnover Ratio Rank  \\\n",
       "0  A&M-Corpus Christi                      44                         141   \n",
       "1               Akron                     278                         177   \n",
       "2             Alabama                      66                         185   \n",
       "3             Arizona                       1                          17   \n",
       "4            Arkansas                     116                         110   \n",
       "\n",
       "   BlocksPerGame Rank  Field Goal % Rank  Field Goal % Defense Rank  \\\n",
       "0                 343                156                         90   \n",
       "1                 162                 70                        119   \n",
       "2                  36                184                        200   \n",
       "3                   8                  4                         10   \n",
       "4                  71                218                         58   \n",
       "\n",
       "   Fouls Per Game Rank  Free Throw % Rank  Rebound Margin Rank  \\\n",
       "0                  349                100                   51   \n",
       "1                  192                272                   64   \n",
       "2                  304                132                   76   \n",
       "3                  319                 95                    9   \n",
       "4                  323                 32                   89   \n",
       "\n",
       "   Scoring Defense Rank  ...  Conference_Pac-12  Conference_Patriot  \\\n",
       "0                   200  ...                0.0                 0.0   \n",
       "1                    22  ...                0.0                 0.0   \n",
       "2                   320  ...                0.0                 0.0   \n",
       "3                   137  ...                1.0                 0.0   \n",
       "4                   145  ...                0.0                 0.0   \n",
       "\n",
       "   Conference_SEC  Conference_SWAC  Conference_SoCon  Conference_Southland  \\\n",
       "0             0.0              0.0               0.0                   1.0   \n",
       "1             0.0              0.0               0.0                   0.0   \n",
       "2             1.0              0.0               0.0                   0.0   \n",
       "3             0.0              0.0               0.0                   0.0   \n",
       "4             1.0              0.0               0.0                   0.0   \n",
       "\n",
       "   Conference_Summit League  Conference_Sun Belt  Conference_WAC  \\\n",
       "0                       0.0                  0.0             0.0   \n",
       "1                       0.0                  0.0             0.0   \n",
       "2                       0.0                  0.0             0.0   \n",
       "3                       0.0                  0.0             0.0   \n",
       "4                       0.0                  0.0             0.0   \n",
       "\n",
       "   Conference_WCC  \n",
       "0             0.0  \n",
       "1             0.0  \n",
       "2             0.0  \n",
       "3             0.0  \n",
       "4             0.0  \n",
       "\n",
       "[5 rows x 53 columns]"
      ]
     },
     "execution_count": 2,
     "metadata": {},
     "output_type": "execute_result"
    }
   ],
   "source": [
    "mm_teams_merged_df = pd.read_csv(\"../Module 20 NCAA stats/mm_teams_merged.csv\")\n",
    "mm_teams_merged_df.head()"
   ]
  },
  {
   "cell_type": "code",
   "execution_count": 3,
   "id": "57bee095",
   "metadata": {},
   "outputs": [
    {
     "data": {
      "text/html": [
       "<div>\n",
       "<style scoped>\n",
       "    .dataframe tbody tr th:only-of-type {\n",
       "        vertical-align: middle;\n",
       "    }\n",
       "\n",
       "    .dataframe tbody tr th {\n",
       "        vertical-align: top;\n",
       "    }\n",
       "\n",
       "    .dataframe thead th {\n",
       "        text-align: right;\n",
       "    }\n",
       "</style>\n",
       "<table border=\"1\" class=\"dataframe\">\n",
       "  <thead>\n",
       "    <tr style=\"text-align: right;\">\n",
       "      <th></th>\n",
       "      <th>Assists Per. Game Rank</th>\n",
       "      <th>Assist Turnover Ratio Rank</th>\n",
       "      <th>BlocksPerGame Rank</th>\n",
       "      <th>Field Goal % Rank</th>\n",
       "      <th>Field Goal % Defense Rank</th>\n",
       "      <th>Fouls Per Game Rank</th>\n",
       "      <th>Free Throw % Rank</th>\n",
       "      <th>Rebound Margin Rank</th>\n",
       "      <th>Scoring Defense Rank</th>\n",
       "      <th>Scoring Margin Rank</th>\n",
       "      <th>...</th>\n",
       "      <th>Conference_Pac-12</th>\n",
       "      <th>Conference_Patriot</th>\n",
       "      <th>Conference_SEC</th>\n",
       "      <th>Conference_SWAC</th>\n",
       "      <th>Conference_SoCon</th>\n",
       "      <th>Conference_Southland</th>\n",
       "      <th>Conference_Summit League</th>\n",
       "      <th>Conference_Sun Belt</th>\n",
       "      <th>Conference_WAC</th>\n",
       "      <th>Conference_WCC</th>\n",
       "    </tr>\n",
       "  </thead>\n",
       "  <tbody>\n",
       "    <tr>\n",
       "      <th>0</th>\n",
       "      <td>44</td>\n",
       "      <td>141</td>\n",
       "      <td>343</td>\n",
       "      <td>156</td>\n",
       "      <td>90</td>\n",
       "      <td>349</td>\n",
       "      <td>100</td>\n",
       "      <td>51</td>\n",
       "      <td>200</td>\n",
       "      <td>77</td>\n",
       "      <td>...</td>\n",
       "      <td>0.0</td>\n",
       "      <td>0.0</td>\n",
       "      <td>0.0</td>\n",
       "      <td>0.0</td>\n",
       "      <td>0.0</td>\n",
       "      <td>1.0</td>\n",
       "      <td>0.0</td>\n",
       "      <td>0.0</td>\n",
       "      <td>0.0</td>\n",
       "      <td>0.0</td>\n",
       "    </tr>\n",
       "    <tr>\n",
       "      <th>1</th>\n",
       "      <td>278</td>\n",
       "      <td>177</td>\n",
       "      <td>162</td>\n",
       "      <td>70</td>\n",
       "      <td>119</td>\n",
       "      <td>192</td>\n",
       "      <td>272</td>\n",
       "      <td>64</td>\n",
       "      <td>22</td>\n",
       "      <td>46</td>\n",
       "      <td>...</td>\n",
       "      <td>0.0</td>\n",
       "      <td>0.0</td>\n",
       "      <td>0.0</td>\n",
       "      <td>0.0</td>\n",
       "      <td>0.0</td>\n",
       "      <td>0.0</td>\n",
       "      <td>0.0</td>\n",
       "      <td>0.0</td>\n",
       "      <td>0.0</td>\n",
       "      <td>0.0</td>\n",
       "    </tr>\n",
       "    <tr>\n",
       "      <th>2</th>\n",
       "      <td>66</td>\n",
       "      <td>185</td>\n",
       "      <td>36</td>\n",
       "      <td>184</td>\n",
       "      <td>200</td>\n",
       "      <td>304</td>\n",
       "      <td>132</td>\n",
       "      <td>76</td>\n",
       "      <td>320</td>\n",
       "      <td>150</td>\n",
       "      <td>...</td>\n",
       "      <td>0.0</td>\n",
       "      <td>0.0</td>\n",
       "      <td>1.0</td>\n",
       "      <td>0.0</td>\n",
       "      <td>0.0</td>\n",
       "      <td>0.0</td>\n",
       "      <td>0.0</td>\n",
       "      <td>0.0</td>\n",
       "      <td>0.0</td>\n",
       "      <td>0.0</td>\n",
       "    </tr>\n",
       "    <tr>\n",
       "      <th>3</th>\n",
       "      <td>1</td>\n",
       "      <td>17</td>\n",
       "      <td>8</td>\n",
       "      <td>4</td>\n",
       "      <td>10</td>\n",
       "      <td>319</td>\n",
       "      <td>95</td>\n",
       "      <td>9</td>\n",
       "      <td>137</td>\n",
       "      <td>3</td>\n",
       "      <td>...</td>\n",
       "      <td>1.0</td>\n",
       "      <td>0.0</td>\n",
       "      <td>0.0</td>\n",
       "      <td>0.0</td>\n",
       "      <td>0.0</td>\n",
       "      <td>0.0</td>\n",
       "      <td>0.0</td>\n",
       "      <td>0.0</td>\n",
       "      <td>0.0</td>\n",
       "      <td>0.0</td>\n",
       "    </tr>\n",
       "    <tr>\n",
       "      <th>4</th>\n",
       "      <td>116</td>\n",
       "      <td>110</td>\n",
       "      <td>71</td>\n",
       "      <td>218</td>\n",
       "      <td>58</td>\n",
       "      <td>323</td>\n",
       "      <td>32</td>\n",
       "      <td>89</td>\n",
       "      <td>145</td>\n",
       "      <td>53</td>\n",
       "      <td>...</td>\n",
       "      <td>0.0</td>\n",
       "      <td>0.0</td>\n",
       "      <td>1.0</td>\n",
       "      <td>0.0</td>\n",
       "      <td>0.0</td>\n",
       "      <td>0.0</td>\n",
       "      <td>0.0</td>\n",
       "      <td>0.0</td>\n",
       "      <td>0.0</td>\n",
       "      <td>0.0</td>\n",
       "    </tr>\n",
       "  </tbody>\n",
       "</table>\n",
       "<p>5 rows × 51 columns</p>\n",
       "</div>"
      ],
      "text/plain": [
       "   Assists Per. Game Rank  Assist Turnover Ratio Rank  BlocksPerGame Rank  \\\n",
       "0                      44                         141                 343   \n",
       "1                     278                         177                 162   \n",
       "2                      66                         185                  36   \n",
       "3                       1                          17                   8   \n",
       "4                     116                         110                  71   \n",
       "\n",
       "   Field Goal % Rank  Field Goal % Defense Rank  Fouls Per Game Rank  \\\n",
       "0                156                         90                  349   \n",
       "1                 70                        119                  192   \n",
       "2                184                        200                  304   \n",
       "3                  4                         10                  319   \n",
       "4                218                         58                  323   \n",
       "\n",
       "   Free Throw % Rank  Rebound Margin Rank  Scoring Defense Rank  \\\n",
       "0                100                   51                   200   \n",
       "1                272                   64                    22   \n",
       "2                132                   76                   320   \n",
       "3                 95                    9                   137   \n",
       "4                 32                   89                   145   \n",
       "\n",
       "   Scoring Margin Rank  ...  Conference_Pac-12  Conference_Patriot  \\\n",
       "0                   77  ...                0.0                 0.0   \n",
       "1                   46  ...                0.0                 0.0   \n",
       "2                  150  ...                0.0                 0.0   \n",
       "3                    3  ...                1.0                 0.0   \n",
       "4                   53  ...                0.0                 0.0   \n",
       "\n",
       "   Conference_SEC  Conference_SWAC  Conference_SoCon  Conference_Southland  \\\n",
       "0             0.0              0.0               0.0                   1.0   \n",
       "1             0.0              0.0               0.0                   0.0   \n",
       "2             1.0              0.0               0.0                   0.0   \n",
       "3             0.0              0.0               0.0                   0.0   \n",
       "4             1.0              0.0               0.0                   0.0   \n",
       "\n",
       "   Conference_Summit League  Conference_Sun Belt  Conference_WAC  \\\n",
       "0                       0.0                  0.0             0.0   \n",
       "1                       0.0                  0.0             0.0   \n",
       "2                       0.0                  0.0             0.0   \n",
       "3                       0.0                  0.0             0.0   \n",
       "4                       0.0                  0.0             0.0   \n",
       "\n",
       "   Conference_WCC  \n",
       "0             0.0  \n",
       "1             0.0  \n",
       "2             0.0  \n",
       "3             0.0  \n",
       "4             0.0  \n",
       "\n",
       "[5 rows x 51 columns]"
      ]
     },
     "execution_count": 3,
     "metadata": {},
     "output_type": "execute_result"
    }
   ],
   "source": [
    "# Define the features set.\n",
    "X = mm_teams_merged_df.drop(columns= [\"Team\", \"Tournament Wins\"])\n",
    "X.head()"
   ]
  },
  {
   "cell_type": "code",
   "execution_count": 4,
   "id": "771a473c",
   "metadata": {},
   "outputs": [
    {
     "data": {
      "text/plain": [
       "0    0\n",
       "1    0\n",
       "2    0\n",
       "3    2\n",
       "4    3\n",
       "Name: Tournament Wins, dtype: int64"
      ]
     },
     "execution_count": 4,
     "metadata": {},
     "output_type": "execute_result"
    }
   ],
   "source": [
    "# Define the target set.\n",
    "y = mm_teams_merged_df[\"Tournament Wins\"]\n",
    "y.head()"
   ]
  },
  {
   "cell_type": "markdown",
   "id": "11da00dc",
   "metadata": {},
   "source": [
    "### check with and without stratify"
   ]
  },
  {
   "cell_type": "code",
   "execution_count": 5,
   "id": "55e67bac",
   "metadata": {},
   "outputs": [],
   "source": [
    "# Splitting into Train and Test sets.\n",
    "X_train, X_test, y_train, y_test = train_test_split(X, y, random_state=78, stratify=y)"
   ]
  },
  {
   "cell_type": "code",
   "execution_count": 6,
   "id": "45c97489",
   "metadata": {},
   "outputs": [],
   "source": [
    "# Creating a StandardScaler instance.\n",
    "scaler = StandardScaler()\n",
    "# Fitting the Standard Scaler with the training data.\n",
    "X_scaler = scaler.fit(X_train)\n",
    "\n",
    "# Scaling the data.\n",
    "X_train_scaled = X_scaler.transform(X_train)\n",
    "X_test_scaled = X_scaler.transform(X_test)"
   ]
  },
  {
   "cell_type": "code",
   "execution_count": 7,
   "id": "9846a449",
   "metadata": {},
   "outputs": [
    {
     "data": {
      "text/plain": [
       "array([[-1.23395418, -1.11984732,  0.10871923, ..., -0.11855895,\n",
       "        -0.1268723 , -0.18088625],\n",
       "       [-0.27193664,  0.08646749,  0.16320832, ..., -0.11855895,\n",
       "        -0.1268723 , -0.18088625],\n",
       "       [ 1.3543311 ,  0.03620437,  1.7869833 , ..., -0.11855895,\n",
       "        -0.1268723 , -0.18088625],\n",
       "       ...,\n",
       "       [-0.40936772, -0.99418952,  0.65361016, ..., -0.11855895,\n",
       "        -0.1268723 , -0.18088625],\n",
       "       [-0.68422987, -0.73030816,  0.07602577, ..., -0.11855895,\n",
       "        -0.1268723 , -0.18088625],\n",
       "       [ 0.51829205,  0.11159905,  0.19590178, ..., -0.11855895,\n",
       "        -0.1268723 , -0.18088625]])"
      ]
     },
     "execution_count": 7,
     "metadata": {},
     "output_type": "execute_result"
    }
   ],
   "source": [
    "X_train_scaled"
   ]
  },
  {
   "cell_type": "markdown",
   "id": "9390b253",
   "metadata": {},
   "source": [
    "### apply random sampling"
   ]
  },
  {
   "cell_type": "code",
   "execution_count": 8,
   "id": "81e1cbc9",
   "metadata": {},
   "outputs": [],
   "source": [
    "from collections import Counter"
   ]
  },
  {
   "cell_type": "code",
   "execution_count": 9,
   "id": "3fc1412a",
   "metadata": {},
   "outputs": [
    {
     "data": {
      "text/plain": [
       "Counter({0: 219, 1: 219, 4: 219, 2: 219, 6: 219, 3: 219, 5: 219})"
      ]
     },
     "execution_count": 9,
     "metadata": {},
     "output_type": "execute_result"
    }
   ],
   "source": [
    "# implement random oversampling\n",
    "from imblearn.over_sampling import RandomOverSampler\n",
    "ros = RandomOverSampler(random_state=1)\n",
    "X_resampled, y_resampled = ros.fit_resample(X_train_scaled, y_train)\n",
    "\n",
    "Counter(y_resampled)"
   ]
  },
  {
   "cell_type": "markdown",
   "id": "59b60424",
   "metadata": {},
   "source": [
    "### apply_model"
   ]
  },
  {
   "cell_type": "markdown",
   "id": "0a1442e1",
   "metadata": {},
   "source": []
  },
  {
   "cell_type": "markdown",
   "id": "b2ce603d",
   "metadata": {},
   "source": [
    "Random Undersampling"
   ]
  },
  {
   "cell_type": "code",
   "execution_count": 10,
   "id": "b2a42a5d",
   "metadata": {},
   "outputs": [
    {
     "data": {
      "text/plain": [
       "Counter({0: 8, 1: 8, 2: 8, 3: 8, 4: 8, 5: 8, 6: 8})"
      ]
     },
     "execution_count": 10,
     "metadata": {},
     "output_type": "execute_result"
    }
   ],
   "source": [
    "# Undersample the data using `RandomUnderSampler`\n",
    "from imblearn.under_sampling import RandomUnderSampler\n",
    "ros = RandomUnderSampler(random_state=1)\n",
    "X_resampled, y_resampled = ros.fit_resample(X_train, y_train)\n",
    "Counter(y_resampled)"
   ]
  },
  {
   "cell_type": "code",
   "execution_count": 11,
   "id": "97d8e4a7",
   "metadata": {},
   "outputs": [
    {
     "name": "stderr",
     "output_type": "stream",
     "text": [
      "C:\\Users\\Bart\\anaconda3\\envs\\mlenv\\lib\\site-packages\\sklearn\\linear_model\\_logistic.py:765: ConvergenceWarning: lbfgs failed to converge (status=1):\n",
      "STOP: TOTAL NO. of ITERATIONS REACHED LIMIT.\n",
      "\n",
      "Increase the number of iterations (max_iter) or scale the data as shown in:\n",
      "    https://scikit-learn.org/stable/modules/preprocessing.html\n",
      "Please also refer to the documentation for alternative solver options:\n",
      "    https://scikit-learn.org/stable/modules/linear_model.html#logistic-regression\n",
      "  extra_warning_msg=_LOGISTIC_SOLVER_CONVERGENCE_MSG)\n"
     ]
    },
    {
     "data": {
      "text/plain": [
       "LogisticRegression(random_state=1)"
      ]
     },
     "execution_count": 11,
     "metadata": {},
     "output_type": "execute_result"
    }
   ],
   "source": [
    "# Fit a Logistic regression model using random undersampled data\n",
    "from sklearn.linear_model import LogisticRegression\n",
    "model = LogisticRegression(solver='lbfgs', random_state=1)\n",
    "model.fit(X_resampled, y_resampled)"
   ]
  },
  {
   "cell_type": "code",
   "execution_count": 12,
   "id": "cd3332d0",
   "metadata": {},
   "outputs": [
    {
     "data": {
      "text/plain": [
       "array([[21, 13, 13,  5, 12,  4,  5],\n",
       "       [ 9,  4, 16,  7,  7,  5,  3],\n",
       "       [ 3,  5,  5,  2,  1,  4,  2],\n",
       "       [ 2,  1,  2,  3,  1,  2,  1],\n",
       "       [ 0,  0,  1,  2,  1,  0,  1],\n",
       "       [ 1,  0,  0,  0,  0,  1,  1],\n",
       "       [ 0,  1,  1,  0,  1,  0,  0]], dtype=int64)"
      ]
     },
     "execution_count": 12,
     "metadata": {},
     "output_type": "execute_result"
    }
   ],
   "source": [
    "# Display the confusion matrix\n",
    "from sklearn.metrics import confusion_matrix\n",
    "y_pred = model.predict(X_test)\n",
    "confusion_matrix(y_test, y_pred)"
   ]
  },
  {
   "cell_type": "code",
   "execution_count": 13,
   "id": "385cd2c7",
   "metadata": {},
   "outputs": [
    {
     "data": {
      "text/plain": [
       "0.19667266657597035"
      ]
     },
     "execution_count": 13,
     "metadata": {},
     "output_type": "execute_result"
    }
   ],
   "source": [
    "# Calculate the Balanced Accuracy Score\n",
    "from sklearn.metrics import balanced_accuracy_score\n",
    "balanced_accuracy_score(y_test, y_pred)"
   ]
  },
  {
   "cell_type": "code",
   "execution_count": 14,
   "id": "15840e13",
   "metadata": {},
   "outputs": [
    {
     "name": "stdout",
     "output_type": "stream",
     "text": [
      "                   pre       rec       spe        f1       geo       iba       sup\n",
      "\n",
      "          0       0.58      0.29      0.84      0.39      0.49      0.23        73\n",
      "          1       0.17      0.08      0.83      0.11      0.26      0.06        51\n",
      "          2       0.13      0.23      0.78      0.17      0.42      0.17        22\n",
      "          3       0.16      0.25      0.90      0.19      0.47      0.21        12\n",
      "          4       0.04      0.20      0.87      0.07      0.42      0.16         5\n",
      "          5       0.06      0.33      0.91      0.11      0.55      0.29         3\n",
      "          6       0.00      0.00      0.92      0.00      0.00      0.00         3\n",
      "\n",
      "avg / total       0.33      0.21      0.84      0.24      0.40      0.16       169\n",
      "\n"
     ]
    }
   ],
   "source": [
    "# Print the imbalanced classification report\n",
    "from imblearn.metrics import classification_report_imbalanced\n",
    "print(classification_report_imbalanced(y_test, y_pred))"
   ]
  },
  {
   "cell_type": "code",
   "execution_count": null,
   "id": "54a3176d",
   "metadata": {},
   "outputs": [],
   "source": []
  }
 ],
 "metadata": {
  "kernelspec": {
   "display_name": "mlenv",
   "language": "python",
   "name": "mlenv"
  },
  "language_info": {
   "codemirror_mode": {
    "name": "ipython",
    "version": 3
   },
   "file_extension": ".py",
   "mimetype": "text/x-python",
   "name": "python",
   "nbconvert_exporter": "python",
   "pygments_lexer": "ipython3",
   "version": "3.7.11"
  }
 },
 "nbformat": 4,
 "nbformat_minor": 5
}
