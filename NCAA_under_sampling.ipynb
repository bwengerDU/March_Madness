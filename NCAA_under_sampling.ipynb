{
 "cells": [
  {
   "cell_type": "code",
   "execution_count": 19,
   "id": "c6b18dcf",
   "metadata": {},
   "outputs": [],
   "source": [
    "import pandas as pd\n",
    "from scipy.stats import linregress\n",
    "import matplotlib.pyplot as plt\n",
    "from sklearn.preprocessing import StandardScaler\n",
    "from sklearn.linear_model import LinearRegression\n",
    "from sklearn import linear_model\n",
    "from sklearn.model_selection import train_test_split\n",
    "from sklearn.linear_model import LogisticRegression\n",
    "from sklearn.metrics import accuracy_score\n",
    "from collections import Counter\n",
    "from imblearn.over_sampling import RandomOverSampler\n",
    "from imblearn.metrics import classification_report_imbalanced\n",
    "from imblearn.under_sampling import ClusterCentroids\n",
    "from imblearn.under_sampling import RandomUnderSampler\n",
    "from imblearn.combine import SMOTEENN"
   ]
  },
  {
   "cell_type": "code",
   "execution_count": 2,
   "id": "0996d34c",
   "metadata": {},
   "outputs": [],
   "source": [
    "clean_data_df=pd.read_csv(\"2011-22_clean_NCAA_stats.csv\")"
   ]
  },
  {
   "cell_type": "code",
   "execution_count": 3,
   "id": "7bd12339",
   "metadata": {},
   "outputs": [],
   "source": [
    "# Set independent and dependent variables.\n",
    "ast_per_game = clean_data_df['Assists Per. Game Rank']\n",
    "ast_to_ratio = clean_data_df['Assist Turnover Ratio Rank']\n",
    "blocks_per_game = clean_data_df['BlocksPerGame Rank']\n",
    "fieldgoalprc = clean_data_df['Field Goal % Rank']\n",
    "fieldgoalprcdef = clean_data_df['Field Goal % Defense Rank']\n",
    "fouls_per_game = clean_data_df['Fouls Per Game Rank']\n",
    "ftprc = clean_data_df['Free Throw % Rank']\n",
    "reb_marg = clean_data_df['Rebound Margin Rank']\n",
    "scoring_def = clean_data_df['Scoring Defense Rank']\n",
    "scoring_margin = clean_data_df['Scoring Margin Rank']\n",
    "scoring_off = clean_data_df['Scoring Offense Rank']\n",
    "stls_per_game = clean_data_df['Steals Per Game Rank']\n",
    "threept_fg_def = clean_data_df['Three Pt FG Defense Rank']\n",
    "threept_fg_prc = clean_data_df['Three Pt FG % Rank']\n",
    "threept_fg_per_game = clean_data_df['Three Pt FG Per Game Rank']\n",
    "to_margin = clean_data_df['Turnover Margin Rank']\n",
    "to_per_game = clean_data_df['Turnover Per Game Rank']\n",
    "wl = clean_data_df['Win-Loss Rank']\n",
    "tournament_wins = clean_data_df['Tournament Wins']\n",
    "clean_data_df['Three Pt FG % Rank'] = clean_data_df['Three Pt FG % Rank'].fillna(0).astype(\"int64\") \n",
    "clean_data_df['Turnover Margin Rank'] = clean_data_df['Turnover Margin Rank'].fillna(0).astype(\"int64\") "
   ]
  },
  {
   "cell_type": "code",
   "execution_count": 4,
   "id": "03061401",
   "metadata": {},
   "outputs": [],
   "source": [
    "X=clean_data_df.drop(['Conference','Tournament Wins','Team'],axis=1)\n",
    "y=clean_data_df['Tournament Wins'].values"
   ]
  },
  {
   "cell_type": "code",
   "execution_count": 5,
   "id": "29fb960a",
   "metadata": {},
   "outputs": [],
   "source": [
    "# Splitting into Train and Test sets.\n",
    "X_train, X_test, y_train, y_test = train_test_split(X, y, random_state=78)\n",
    "# Creating a StandardScaler instance.\n",
    "scaler = StandardScaler()\n",
    "# Fitting the Standard Scaler with the training data.\n",
    "X_scaler = scaler.fit(X_train)\n",
    "# Scaling the data.\n",
    "X_train_scaled = X_scaler.transform(X_train)\n",
    "X_test_scaled = X_scaler.transform(X_test)"
   ]
  },
  {
   "cell_type": "code",
   "execution_count": 6,
   "id": "fcd99b4f",
   "metadata": {},
   "outputs": [
    {
     "data": {
      "text/plain": [
       "Counter({0: 8, 1: 8, 2: 8, 3: 8, 4: 8, 5: 8, 6: 8})"
      ]
     },
     "execution_count": 6,
     "metadata": {},
     "output_type": "execute_result"
    }
   ],
   "source": [
    "from imblearn.under_sampling import RandomUnderSampler\n",
    "ros = RandomUnderSampler(random_state=1)\n",
    "X_resampled, y_resampled = ros.fit_resample(X_train, y_train)\n",
    "Counter(y_resampled)"
   ]
  },
  {
   "cell_type": "code",
   "execution_count": 8,
   "id": "fe00edfe",
   "metadata": {},
   "outputs": [
    {
     "data": {
      "text/plain": [
       "LogisticRegression(random_state=1, solver='liblinear')"
      ]
     },
     "execution_count": 8,
     "metadata": {},
     "output_type": "execute_result"
    }
   ],
   "source": [
    "model = LogisticRegression(solver='liblinear', random_state=1)\n",
    "model.fit(X_resampled, y_resampled)"
   ]
  },
  {
   "cell_type": "code",
   "execution_count": 9,
   "id": "cad02514",
   "metadata": {},
   "outputs": [
    {
     "data": {
      "text/plain": [
       "0.4214963119072708"
      ]
     },
     "execution_count": 9,
     "metadata": {},
     "output_type": "execute_result"
    }
   ],
   "source": [
    "y_pred = model.predict(X_test)\n",
    "accuracy_score(y_test, y_pred)"
   ]
  },
  {
   "cell_type": "code",
   "execution_count": 10,
   "id": "f94e5dbb",
   "metadata": {},
   "outputs": [
    {
     "name": "stdout",
     "output_type": "stream",
     "text": [
      "                   pre       rec       spe        f1       geo       iba       sup\n",
      "\n",
      "          0       0.99      0.45      0.97      0.62      0.66      0.42       854\n",
      "          1       0.08      0.12      0.91      0.10      0.34      0.10        56\n",
      "          2       0.03      0.33      0.74      0.05      0.50      0.24        21\n",
      "          3       0.00      0.00      0.91      0.00      0.00      0.00        10\n",
      "          4       0.00      0.00      0.96      0.00      0.00      0.00         4\n",
      "          5       0.00      0.00      0.91      0.00      0.00      0.00         1\n",
      "          6       0.00      0.00      0.98      0.00      0.00      0.00         3\n",
      "\n",
      "avg / total       0.90      0.42      0.96      0.57      0.63      0.38       949\n",
      "\n"
     ]
    }
   ],
   "source": [
    "print(classification_report_imbalanced(y_test, y_pred))"
   ]
  },
  {
   "cell_type": "code",
   "execution_count": 13,
   "id": "7752feed",
   "metadata": {},
   "outputs": [],
   "source": [
    "from imblearn.under_sampling import ClusterCentroids\n",
    "cc = ClusterCentroids(random_state=1)\n",
    "X_resampled2, y_resampled2 = cc.fit_resample(X_train, y_train)"
   ]
  },
  {
   "cell_type": "code",
   "execution_count": 21,
   "id": "c63e1103",
   "metadata": {},
   "outputs": [
    {
     "data": {
      "text/plain": [
       "LogisticRegression(random_state=1, solver='liblinear')"
      ]
     },
     "execution_count": 21,
     "metadata": {},
     "output_type": "execute_result"
    }
   ],
   "source": [
    "model2 = LogisticRegression(solver='liblinear', random_state=1)\n",
    "model2.fit(X_resampled2, y_resampled2)"
   ]
  },
  {
   "cell_type": "code",
   "execution_count": 22,
   "id": "c996c4be",
   "metadata": {},
   "outputs": [
    {
     "data": {
      "text/plain": [
       "0.5753424657534246"
      ]
     },
     "execution_count": 22,
     "metadata": {},
     "output_type": "execute_result"
    }
   ],
   "source": [
    "y_pred = model.predict(X_test)\n",
    "accuracy_score(y_test, y_pred)"
   ]
  },
  {
   "cell_type": "code",
   "execution_count": 23,
   "id": "8b8e0f94",
   "metadata": {},
   "outputs": [
    {
     "name": "stdout",
     "output_type": "stream",
     "text": [
      "                   pre       rec       spe        f1       geo       iba       sup\n",
      "\n",
      "          0       0.97      0.63      0.80      0.76      0.71      0.50       854\n",
      "          1       0.04      0.07      0.90      0.05      0.25      0.06        56\n",
      "          2       0.05      0.14      0.94      0.08      0.37      0.12        21\n",
      "          3       0.00      0.00      0.93      0.00      0.00      0.00        10\n",
      "          4       0.00      0.00      0.95      0.00      0.00      0.00         4\n",
      "          5       0.00      0.00      0.90      0.00      0.00      0.00         1\n",
      "          6       0.00      0.00      0.97      0.00      0.00      0.00         3\n",
      "\n",
      "avg / total       0.87      0.58      0.81      0.69      0.66      0.45       949\n",
      "\n"
     ]
    }
   ],
   "source": [
    "print(classification_report_imbalanced(y_test, y_pred))"
   ]
  },
  {
   "cell_type": "code",
   "execution_count": 24,
   "id": "d8533f22",
   "metadata": {},
   "outputs": [],
   "source": [
    "smote_enn = SMOTEENN(random_state=0)\n",
    "X_resampled3, y_resampled3 = smote_enn.fit_resample(X_train, y_train)"
   ]
  },
  {
   "cell_type": "code",
   "execution_count": 26,
   "id": "8c89067c",
   "metadata": {},
   "outputs": [
    {
     "data": {
      "text/plain": [
       "LogisticRegression(random_state=1, solver='liblinear')"
      ]
     },
     "execution_count": 26,
     "metadata": {},
     "output_type": "execute_result"
    }
   ],
   "source": [
    "model3 = LogisticRegression(solver='liblinear', random_state=1)\n",
    "model3.fit(X_resampled3, y_resampled3)"
   ]
  },
  {
   "cell_type": "code",
   "execution_count": 28,
   "id": "78a678f3",
   "metadata": {},
   "outputs": [
    {
     "data": {
      "text/plain": [
       "0.5753424657534246"
      ]
     },
     "execution_count": 28,
     "metadata": {},
     "output_type": "execute_result"
    }
   ],
   "source": [
    "y_pred = model.predict(X_test)\n",
    "accuracy_score(y_test, y_pred)"
   ]
  },
  {
   "cell_type": "code",
   "execution_count": 29,
   "id": "13a45849",
   "metadata": {},
   "outputs": [
    {
     "name": "stdout",
     "output_type": "stream",
     "text": [
      "                   pre       rec       spe        f1       geo       iba       sup\n",
      "\n",
      "          0       0.97      0.63      0.80      0.76      0.71      0.50       854\n",
      "          1       0.04      0.07      0.90      0.05      0.25      0.06        56\n",
      "          2       0.05      0.14      0.94      0.08      0.37      0.12        21\n",
      "          3       0.00      0.00      0.93      0.00      0.00      0.00        10\n",
      "          4       0.00      0.00      0.95      0.00      0.00      0.00         4\n",
      "          5       0.00      0.00      0.90      0.00      0.00      0.00         1\n",
      "          6       0.00      0.00      0.97      0.00      0.00      0.00         3\n",
      "\n",
      "avg / total       0.87      0.58      0.81      0.69      0.66      0.45       949\n",
      "\n"
     ]
    }
   ],
   "source": [
    "print(classification_report_imbalanced(y_test, y_pred))"
   ]
  },
  {
   "cell_type": "code",
   "execution_count": null,
   "id": "b81721e5",
   "metadata": {},
   "outputs": [],
   "source": []
  }
 ],
 "metadata": {
  "kernelspec": {
   "display_name": "mlenv",
   "language": "python",
   "name": "mlenv"
  },
  "language_info": {
   "codemirror_mode": {
    "name": "ipython",
    "version": 3
   },
   "file_extension": ".py",
   "mimetype": "text/x-python",
   "name": "python",
   "nbconvert_exporter": "python",
   "pygments_lexer": "ipython3",
   "version": "3.7.11"
  }
 },
 "nbformat": 4,
 "nbformat_minor": 5
}
